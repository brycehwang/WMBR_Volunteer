{
 "cells": [
  {
   "cell_type": "code",
   "execution_count": 75,
   "metadata": {
    "collapsed": false
   },
   "outputs": [
    {
     "name": "stdout",
     "output_type": "stream",
     "text": [
      "The autoreload extension is already loaded. To reload it, use:\n",
      "  %reload_ext autoreload\n"
     ]
    }
   ],
   "source": [
    "%load_ext autoreload\n",
    "%autoreload 2"
   ]
  },
  {
   "cell_type": "code",
   "execution_count": 76,
   "metadata": {
    "collapsed": true
   },
   "outputs": [],
   "source": [
    "import pandas as pd\n",
    "from IPython.display import Markdown, display\n",
    "import os"
   ]
  },
  {
   "cell_type": "code",
   "execution_count": 77,
   "metadata": {
    "collapsed": true
   },
   "outputs": [],
   "source": [
    "#setup some stuff\n",
    "month = \"October 2017\"\n",
    "today_date = \"10/17/2017\"\n",
    "custom_notes = \"These digests of volunteer opportunities will be compiled throughout the season. This email does not include fundraising opportunities, which will be discussed in depth at the 10/21 All Station Meeting.\"\n",
    "filename = \"./VO_oct2017.tsv\""
   ]
  },
  {
   "cell_type": "code",
   "execution_count": 95,
   "metadata": {
    "collapsed": false
   },
   "outputs": [],
   "source": [
    "#some useful helper functions\n",
    "\n",
    "dotsymbol = \"&middot;\"\n",
    "\n",
    "def addToClipBoard(text):\n",
    "    command = 'echo' + text.strip() + '| clip'\n",
    "    os.system(command)\n",
    "def printMarkdown(string):\n",
    "    display(Markdown(string))\n",
    "\n",
    "def makeheader1(string):\n",
    "    return (\"<h1>%s</h1>\" % string)\n",
    "\n",
    "def makeheader2(string):\n",
    "    return (\"<h2>%s</h2>\" % string)\n",
    "\n",
    "def printbold(string):\n",
    "    display(Markdown(makebold(string)))\n",
    "    \n",
    "def makebold(string):\n",
    "    return '**' + string + '**'\n",
    "\n",
    "def makeitalic(string):\n",
    "    return '*' + string + '*'\n",
    "\n",
    "def printOpportunities(opp_df):\n",
    "    for index, row in opp_df.iterrows():\n",
    "        printOpportunity(row)\n",
    "\n",
    "def printOpportunity(row):\n",
    "    title = makebold(row[\"Title\"])\n",
    "    contact_person = row[\"Contact Person\"]\n",
    "    contact_email = row[\"Contact Email\"]\n",
    "    description = makeitalic(row[\"Short Description\"])\n",
    "    opp_type = makeitalic(row[\"One off or recurring\"])\n",
    "    num_hours = makeitalic(row[\"Number of hours\"])\n",
    "    \n",
    "    outputRow1 = \"%s %s %s %s %s\" % (title, dotsymbol, opp_type, dotsymbol, num_hours)\n",
    "    outputRow2 = \"Email %s if interested.\" % contact_email\n",
    "    outputRow3 = '\"%s\"' % description\n",
    "    \n",
    "    output = \"%s<br />%s<br />%s<br /><br />\" % (outputRow1, outputRow2, outputRow3)\n",
    "    #print(output)\n",
    "    printMarkdown(output)"
   ]
  },
  {
   "cell_type": "code",
   "execution_count": 96,
   "metadata": {
    "collapsed": false
   },
   "outputs": [],
   "source": [
    "#read in volunteer opportunities\n",
    "#Title\tContact Person\tContact Email\tShort Description\tOne off or recurring\tNumber of hours\n",
    "df = pd.read_csv(filename, sep = '\\t')\n",
    "recurring = df[df[\"One off or recurring\"] == \"Recurring\"]\n",
    "one_off = df[df[\"One off or recurring\"] == \"One-off\"]\n",
    "self_directed = df[df[\"One off or recurring\"] == \"self-directed\"]\n",
    "    "
   ]
  },
  {
   "cell_type": "code",
   "execution_count": 99,
   "metadata": {
    "collapsed": false
   },
   "outputs": [
    {
     "data": {
      "text/markdown": [
       "<h1>**WMBR Volunteer Digest - October 2017**</h1>"
      ],
      "text/plain": [
       "<IPython.core.display.Markdown object>"
      ]
     },
     "metadata": {},
     "output_type": "display_data"
    },
    {
     "data": {
      "text/markdown": [
       "**<br />This is a digest of upcoming/ongoing volunteer opportunities at the station.**"
      ],
      "text/plain": [
       "<IPython.core.display.Markdown object>"
      ]
     },
     "metadata": {},
     "output_type": "display_data"
    },
    {
     "data": {
      "text/markdown": [
       "These digests of volunteer opportunities will be compiled throughout the season. This email does not include fundraising opportunities, which will be discussed in depth at the 10/21 All Station Meeting.\n"
      ],
      "text/plain": [
       "<IPython.core.display.Markdown object>"
      ]
     },
     "metadata": {},
     "output_type": "display_data"
    },
    {
     "data": {
      "text/markdown": [
       "<br />You can log your volunteer opportunities using the new wmbr.org/volunteer/report form. You are encouraged to log your volunteer activities regularly using the online form, but we will still accept detailed paper forms this season. Please direct questions about the volunteer system to volunteer@wmbr.org. If you're looking for volunteers to help you with a project or activity, submit an opportunity to the next digest using this form!"
      ],
      "text/plain": [
       "<IPython.core.display.Markdown object>"
      ]
     },
     "metadata": {},
     "output_type": "display_data"
    },
    {
     "data": {
      "text/markdown": [
       "\n",
       "--"
      ],
      "text/plain": [
       "<IPython.core.display.Markdown object>"
      ]
     },
     "metadata": {},
     "output_type": "display_data"
    },
    {
     "data": {
      "text/markdown": [
       "<h2>**One-off/Short-term Volunteer Opportunities**</h2>"
      ],
      "text/plain": [
       "<IPython.core.display.Markdown object>"
      ]
     },
     "metadata": {},
     "output_type": "display_data"
    },
    {
     "data": {
      "text/markdown": [
       "**If you are interested in claiming any of these one-off activities, please follow the instructions for that particular opportunity and wait for a reply with confirmation.<br /><br />**"
      ],
      "text/plain": [
       "<IPython.core.display.Markdown object>"
      ]
     },
     "metadata": {},
     "output_type": "display_data"
    },
    {
     "data": {
      "text/markdown": [
       "**iOS app** &middot; *One-off* &middot; *variable*<br />Email bsennett@mit.edu if interested.<br />\"*big need! Need someone who can commit to completing all near-term required features, although we would probably stage the functionality (first = just play our stream, etc.). As I said, I’m slowly working up to writing one, but having help or someone to take over would be great. I’ve had too many people offer then do nothing, so that’s why I’m emphasizing commitment to get it done.*\"<br /><br />"
      ],
      "text/plain": [
       "<IPython.core.display.Markdown object>"
      ]
     },
     "metadata": {},
     "output_type": "display_data"
    },
    {
     "data": {
      "text/markdown": [
       "**Completing A-control functionality** &middot; *One-off* &middot; *variable*<br />Email bsennett@mit.edu if interested.<br />\"*wiring things up to enable features on the board that have never been implemented.*\"<br /><br />"
      ],
      "text/plain": [
       "<IPython.core.display.Markdown object>"
      ]
     },
     "metadata": {},
     "output_type": "display_data"
    },
    {
     "data": {
      "text/markdown": [
       "**Pimp out our remote broadcast cart** &middot; *One-off* &middot; *variable*<br />Email bsennett@mit.edu if interested.<br />\"*buy some extra equipment, and add some features to make it even easier to transport/set up.*\"<br /><br />"
      ],
      "text/plain": [
       "<IPython.core.display.Markdown object>"
      ]
     },
     "metadata": {},
     "output_type": "display_data"
    },
    {
     "data": {
      "text/markdown": [
       "**Station lighting** &middot; *One-off* &middot; *variable*<br />Email bsennett@mit.edu if interested.<br />\"*our station is nice and homey, but the cold fluorescent lights can make it seem prison-like. It’s our space - the sky’s the limit for improving the quality of lighting.*\"<br /><br />"
      ],
      "text/plain": [
       "<IPython.core.display.Markdown object>"
      ]
     },
     "metadata": {},
     "output_type": "display_data"
    },
    {
     "data": {
      "text/markdown": [
       "**Make a promo** &middot; *One-off* &middot; *variable*<br />Email production@wmbr.org if interested.<br />\"*Make a promo for your show*\"<br /><br />"
      ],
      "text/plain": [
       "<IPython.core.display.Markdown object>"
      ]
     },
     "metadata": {},
     "output_type": "display_data"
    },
    {
     "data": {
      "text/markdown": [
       "**All station meeting** &middot; *One-off* &middot; *1*<br />Email nan if interested.<br />\"*It's mandatory to go! And there's lunch*\"<br /><br />"
      ],
      "text/plain": [
       "<IPython.core.display.Markdown object>"
      ]
     },
     "metadata": {},
     "output_type": "display_data"
    },
    {
     "data": {
      "text/markdown": [
       "**OTA Training** &middot; *One-off* &middot; *6-8 depending on # sessions*<br />Email training@wmbr.org if interested.<br />\"*Become OTA Trained*\"<br /><br />"
      ],
      "text/plain": [
       "<IPython.core.display.Markdown object>"
      ]
     },
     "metadata": {},
     "output_type": "display_data"
    },
    {
     "data": {
      "text/markdown": [
       "**Track Blaster Auditor** &middot; *One-off* &middot; *2-3*<br />Email program-director@wmbr.org if interested.<br />\"*at ~1 month into the season, check that everyone is track-blaster trained and using the system and follow up with people who aren't*\"<br /><br />"
      ],
      "text/plain": [
       "<IPython.core.display.Markdown object>"
      ]
     },
     "metadata": {},
     "output_type": "display_data"
    },
    {
     "data": {
      "text/markdown": [
       "**Automatic CD checkout** &middot; *One-off* &middot; *variable*<br />Email bsennett@mit.edu if interested.<br />\"*Create or locate off-the-shelf an app that would let us check in cds by scanning the bar code, and then adding that cd info to an online database.*\"<br /><br />"
      ],
      "text/plain": [
       "<IPython.core.display.Markdown object>"
      ]
     },
     "metadata": {},
     "output_type": "display_data"
    },
    {
     "data": {
      "text/markdown": [
       "**Emergency subs** &middot; *One-off* &middot; *variable (based on legnth of show)*<br />Email nan if interested.<br />\"*Sub for a show (subs announced within 24 hours) - https://docs.google.com/forms/d/e/1FAIpQLSdFEl1X9QGKWV5Fvhh6E_uNSI-h1URGm6inp7ZqvwPjhSF2oQ/viewform*\"<br /><br />"
      ],
      "text/plain": [
       "<IPython.core.display.Markdown object>"
      ]
     },
     "metadata": {},
     "output_type": "display_data"
    },
    {
     "data": {
      "text/markdown": [
       "--"
      ],
      "text/plain": [
       "<IPython.core.display.Markdown object>"
      ]
     },
     "metadata": {},
     "output_type": "display_data"
    },
    {
     "data": {
      "text/markdown": [
       "<h1>**Recurring/Long-term Volunteer Opportunities**</h1>"
      ],
      "text/plain": [
       "<IPython.core.display.Markdown object>"
      ]
     },
     "metadata": {},
     "output_type": "display_data"
    },
    {
     "data": {
      "text/markdown": [
       "**If you are interested in claiming any of these one-off activities, please follow the instructions for that particular opportunity and wait for a reply with confirmation.<br /><br />**"
      ],
      "text/plain": [
       "<IPython.core.display.Markdown object>"
      ]
     },
     "metadata": {},
     "output_type": "display_data"
    },
    {
     "data": {
      "text/markdown": [
       "**OTA Trainer** &middot; *Recurring* &middot; *2-3 for refresher, 6-8/ person trained*<br />Email training@wmbr.org if interested.<br />\"*Become an OTA Trainer*\"<br /><br />"
      ],
      "text/plain": [
       "<IPython.core.display.Markdown object>"
      ]
     },
     "metadata": {},
     "output_type": "display_data"
    },
    {
     "data": {
      "text/markdown": [
       "**Public interest** &middot; *Recurring* &middot; *0.5 / show*<br />Email ram0205@gmail.com if interested.<br />\"*Do a talk show that addresses issues of interst to the Cambridge/Boston community and submit a report*\"<br /><br />"
      ],
      "text/plain": [
       "<IPython.core.display.Markdown object>"
      ]
     },
     "metadata": {},
     "output_type": "display_data"
    },
    {
     "data": {
      "text/markdown": [
       "**Program Guide Distribution Community** &middot; *Recurring* &middot; *variable*<br />Email campus-promotions@wmbr.org if interested.<br />\"*Coordinate distributing program guides to community*\"<br /><br />"
      ],
      "text/plain": [
       "<IPython.core.display.Markdown object>"
      ]
     },
     "metadata": {},
     "output_type": "display_data"
    },
    {
     "data": {
      "text/markdown": [
       "**Program Guide Distribution Campus** &middot; *Recurring* &middot; *1-3 hours*<br />Email campus-promotions@wmbr.org if interested.<br />\"*Coordinate distributing program guides to campus ( reach out to and coordinate with MIT libraries, admissions office, other places where flyers are located to distribute program guides around campus)*\"<br /><br />"
      ],
      "text/plain": [
       "<IPython.core.display.Markdown object>"
      ]
     },
     "metadata": {},
     "output_type": "display_data"
    },
    {
     "data": {
      "text/markdown": [
       "**online subs systems webmaster (different from subs coordinator)** &middot; *Recurring* &middot; *few hours when season turns over, 1-3 hours over the course of the season to maintain things when bugs crop up, opportunity to expand if you want to add more features*<br />Email jjenny@mit.edu if interested.<br />\"*help Jenny maintain online subs system and take over job when she leaves*\"<br /><br />"
      ],
      "text/plain": [
       "<IPython.core.display.Markdown object>"
      ]
     },
     "metadata": {},
     "output_type": "display_data"
    },
    {
     "data": {
      "text/markdown": [
       "**Blog Featured Show Coordinator** &middot; *Recurring* &middot; *0.5-1 hour/interview (1-2 interviews each month)*<br />Email caitlinf@mit.edu if interested.<br />\"*reach out to WMBR members for featured show interviews and photos, follow up with them, format into blog post and social media post*\"<br /><br />"
      ],
      "text/plain": [
       "<IPython.core.display.Markdown object>"
      ]
     },
     "metadata": {},
     "output_type": "display_data"
    },
    {
     "data": {
      "text/markdown": [
       "**WMBR Blog Coordinator** &middot; *Recurring* &middot; *1-2 hours per week, depending on level of interest*<br />Email caitlinf@mit.edu if interested.<br />\"*reach out to WMBR members to write blog posts (which could be about things other than featured shows).*\"<br /><br />"
      ],
      "text/plain": [
       "<IPython.core.display.Markdown object>"
      ]
     },
     "metadata": {},
     "output_type": "display_data"
    },
    {
     "data": {
      "text/markdown": [
       "**Getting new music** &middot; *Recurring* &middot; *variable*<br />Email nan if interested.<br />\"*Reach out to record labels for new music*\"<br /><br />"
      ],
      "text/plain": [
       "<IPython.core.display.Markdown object>"
      ]
     },
     "metadata": {},
     "output_type": "display_data"
    },
    {
     "data": {
      "text/markdown": [
       "--"
      ],
      "text/plain": [
       "<IPython.core.display.Markdown object>"
      ]
     },
     "metadata": {},
     "output_type": "display_data"
    },
    {
     "data": {
      "text/markdown": [
       "<h1>**Self-directed Volunteer Projects**</h1>"
      ],
      "text/plain": [
       "<IPython.core.display.Markdown object>"
      ]
     },
     "metadata": {},
     "output_type": "display_data"
    },
    {
     "data": {
      "text/markdown": [
       "**If none of the above opportunities match your interests, you can propose your own projects and initiatives to help improve the station. Email caitlinf@mit.edu with your idea to start discussing.<br /><br />**"
      ],
      "text/plain": [
       "<IPython.core.display.Markdown object>"
      ]
     },
     "metadata": {},
     "output_type": "display_data"
    },
    {
     "data": {
      "text/markdown": [
       "**Priority unclaimed projects include the following:<br /><br />**"
      ],
      "text/plain": [
       "<IPython.core.display.Markdown object>"
      ]
     },
     "metadata": {},
     "output_type": "display_data"
    },
    {
     "data": {
      "text/markdown": [
       "**Testing1** &middot; *self-directed* &middot; *variable*<br />Email bhwang@mit.edu if interested.<br />\"*dfdfdfdfd*\"<br /><br />"
      ],
      "text/plain": [
       "<IPython.core.display.Markdown object>"
      ]
     },
     "metadata": {},
     "output_type": "display_data"
    },
    {
     "data": {
      "text/markdown": [
       "Other outstanding tech tasks can be seen at this link (up-to-date as of 10/17/2017, email bsennett@mit.edu for most updated version)."
      ],
      "text/plain": [
       "<IPython.core.display.Markdown object>"
      ]
     },
     "metadata": {},
     "output_type": "display_data"
    },
    {
     "data": {
      "text/markdown": [
       "\n",
       "--\n"
      ],
      "text/plain": [
       "<IPython.core.display.Markdown object>"
      ]
     },
     "metadata": {},
     "output_type": "display_data"
    },
    {
     "data": {
      "text/markdown": [
       "To report volunteer hours, go to: http://wmbr.org/volunteer/report"
      ],
      "text/plain": [
       "<IPython.core.display.Markdown object>"
      ]
     },
     "metadata": {},
     "output_type": "display_data"
    },
    {
     "data": {
      "text/markdown": [
       "To see volunteer hours status, go to: http://wmbr.org/volunteer/status"
      ],
      "text/plain": [
       "<IPython.core.display.Markdown object>"
      ]
     },
     "metadata": {},
     "output_type": "display_data"
    }
   ],
   "source": [
    "printMarkdown(makeheader1(makebold(\"WMBR Volunteer Digest - \" + month)))\n",
    "printbold(\"<br />This is a digest of upcoming/ongoing volunteer opportunities at the station.\")\n",
    "printMarkdown(custom_notes + \"\\n\")\n",
    "printMarkdown(\"<br />You can log your volunteer opportunities using the new wmbr.org/volunteer/report form. You are encouraged to log your volunteer activities regularly using the online form, but we will still accept detailed paper forms this season. Please direct questions about the volunteer system to volunteer@wmbr.org. If you're looking for volunteers to help you with a project or activity, submit an opportunity to the next digest using this form!\")\n",
    "printMarkdown(\"\\n--\")\n",
    "printMarkdown(makeheader2(makebold(\"One-off/Short-term Volunteer Opportunities\")))\n",
    "printbold(\"If you are interested in claiming any of these one-off activities, please follow the instructions for that particular opportunity and wait for a reply with confirmation.<br /><br />\")\n",
    "printOpportunities(one_off)\n",
    "printMarkdown(\"--\")\n",
    "printMarkdown(makeheader1(makebold(\"Recurring/Long-term Volunteer Opportunities\")))\n",
    "printbold(\"If you are interested in claiming any of these one-off activities, please follow the instructions for that particular opportunity and wait for a reply with confirmation.<br /><br />\")\n",
    "printOpportunities(recurring)\n",
    "printMarkdown(\"--\")\n",
    "printMarkdown(makeheader1(makebold(\"Self-directed Volunteer Projects\")))\n",
    "printbold(\"If none of the above opportunities match your interests, you can propose your own projects and initiatives to help improve the station. Email caitlinf@mit.edu with your idea to start discussing.<br /><br />\")\n",
    "printbold(\"Priority unclaimed projects include the following:<br /><br />\")\n",
    "printOpportunities(self_directed)\n",
    "printMarkdown(\"Other outstanding tech tasks can be seen at this link (up-to-date as of %s, email bsennett@mit.edu for most updated version).\" % today_date) \n",
    "printMarkdown(\"\\n--\\n\")\n",
    "printMarkdown(\"To report volunteer hours, go to: http://wmbr.org/volunteer/report\")\n",
    "printMarkdown(\"To see volunteer hours status, go to: http://wmbr.org/volunteer/status\")\n"
   ]
  },
  {
   "cell_type": "code",
   "execution_count": null,
   "metadata": {
    "collapsed": true
   },
   "outputs": [],
   "source": []
  }
 ],
 "metadata": {
  "kernelspec": {
   "display_name": "Python 3",
   "language": "python",
   "name": "python3"
  },
  "language_info": {
   "codemirror_mode": {
    "name": "ipython",
    "version": 3
   },
   "file_extension": ".py",
   "mimetype": "text/x-python",
   "name": "python",
   "nbconvert_exporter": "python",
   "pygments_lexer": "ipython3",
   "version": "3.6.0"
  }
 },
 "nbformat": 4,
 "nbformat_minor": 2
}
