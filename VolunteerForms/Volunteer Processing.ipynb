{
 "cells": [
  {
   "cell_type": "markdown",
   "metadata": {},
   "source": [
    "# Volunteer Processing\n",
    "\n",
    "This notebook will be used to convert from the volunteer form to create a processed form. "
   ]
  },
  {
   "cell_type": "code",
   "execution_count": 196,
   "metadata": {
    "collapsed": false
   },
   "outputs": [
    {
     "name": "stdout",
     "output_type": "stream",
     "text": [
      "The autoreload extension is already loaded. To reload it, use:\n",
      "  %reload_ext autoreload\n"
     ]
    }
   ],
   "source": [
    "%load_ext autoreload\n",
    "%autoreload 2"
   ]
  },
  {
   "cell_type": "code",
   "execution_count": 205,
   "metadata": {
    "collapsed": true
   },
   "outputs": [],
   "source": [
    "import pandas as pd\n",
    "from IPython.display import Markdown, display\n",
    "import os\n",
    "import shutil"
   ]
  },
  {
   "cell_type": "code",
   "execution_count": 207,
   "metadata": {
    "collapsed": false
   },
   "outputs": [],
   "source": [
    "#Set up some variable stuff\n",
    "season_name = \"Fall 2017\"\n",
    "start_date_dow = \"Friday\"\n",
    "start_date = \"September 9th\"\n",
    "end_date = \"February 9th\"\n",
    "num_weeks = 23\n",
    "volunteer_coord_name = \"Bryce Hwang\"\n",
    "volunteer_coord_email = \"bhwang@mit.edu\"\n",
    "output_folder = \"./volunteer_forms\"\n",
    "\n",
    "if os.path.exists(output_folder):\n",
    "    shutil.rmtree(output_folder)\n",
    "os.makedirs(output_folder)"
   ]
  },
  {
   "cell_type": "code",
   "execution_count": 199,
   "metadata": {
    "collapsed": false
   },
   "outputs": [],
   "source": [
    "#some useful helper functions\n",
    "\n",
    "dotsymbol = \"&middot;\"\n",
    "\n",
    "def addToClipBoard(text):\n",
    "    command = 'echo' + text.strip() + '| clip'\n",
    "    os.system(command)\n",
    "    \n",
    "def printMarkdown(string):\n",
    "    display(Markdown(string))\n",
    "\n",
    "def makeheader1(string):\n",
    "    return (\"<h1>%s</h1>\" % string)\n",
    "\n",
    "def makeheader2(string):\n",
    "    return (\"<h2>%s</h2>\" % string)\n",
    "\n",
    "def makeheader3(string):\n",
    "    return (\"<h3>%s</h3>\" % string)\n",
    "\n",
    "def printbold(string):\n",
    "    display(Markdown(makebold(string)))\n",
    "    \n",
    "def makebold(string):\n",
    "    return '<b>' + string + '</b>'\n",
    "\n",
    "def makeitalic(string):\n",
    "    return '<i>' + string + '</i>'\n",
    "\n",
    "def addRow(row):\n",
    "    #print(row)\n",
    "    \"<tr><td>Test 1</td><td>Test 2</td><td>Test 3</td></tr>\"\n",
    "\n",
    "def makeTable(indexes, volunteers):\n",
    "    table = '<table border=\"1\"> \\\n",
    "                    <tr><td><i>Work Description\\t</i></td><td><i>Hours\\t</i></td><td><i>Reference\\t</i></td><td><i>Verified?\\t</i></td></tr>'\n",
    "    hrs = 0\n",
    "    not_verified_hrs = 0\n",
    "    for opportunity in indexes:\n",
    "        work_description = volunteers.loc[opportunity][\"Work Description\"]\n",
    "        hours_worked = volunteers.loc[opportunity][\"Hours\"]\n",
    "        reference = volunteers.loc[opportunity][\"Reference\"]\n",
    "        verified = volunteers.loc[opportunity][\"Verified?\"]\n",
    "        table += '<tr><td>%s\\t</td><td>%s\\t</td><td>%s\\t</td><td>%s\\t</td></tr>' % (work_description, str(hours_worked), reference, verified)\n",
    "        if verified == \"VERIFIED\":\n",
    "            hrs += float(hours_worked)\n",
    "        else:\n",
    "            not_verified_hrs += float(hours_worked)\n",
    "    table += '<tr><td></td><td></td><td><i>Total Hours (NOT Verified)</i></td><td><i>%f</i></td></tr>' % (not_verified_hrs)\n",
    "    table += '<tr><td></td><td></td><td><b>Total Hours (Verified)</b></td><td><b>%f</b></td></tr>' % (hrs)\n",
    "            \n",
    "    table += \"</table>\"\n",
    "    return table\n"
   ]
  },
  {
   "cell_type": "code",
   "execution_count": 200,
   "metadata": {
    "collapsed": false
   },
   "outputs": [],
   "source": [
    "volunteers = pd.read_csv(\"Volunteer Reporting Form (Responses) - Volunteer Reports.tsv\", sep = \"\\t\")\n",
    "volunteers.sort_values(by = [\"Your Name\"], inplace = True)\n",
    "grouped = volunteers.groupby('Your Name', axis = 0)"
   ]
  },
  {
   "cell_type": "markdown",
   "metadata": {},
   "source": [
    "Approximation of the form that will show up"
   ]
  },
  {
   "cell_type": "code",
   "execution_count": 201,
   "metadata": {
    "collapsed": false
   },
   "outputs": [
    {
     "data": {
      "text/markdown": [
       "<h1><b><center>WMBR Volunteer Form<center></b></h1>"
      ],
      "text/plain": [
       "<IPython.core.display.Markdown object>"
      ]
     },
     "metadata": {},
     "output_type": "display_data"
    },
    {
     "data": {
      "text/markdown": [
       "<h2><center>Fall 2017 Season<center></h2>"
      ],
      "text/plain": [
       "<IPython.core.display.Markdown object>"
      ]
     },
     "metadata": {},
     "output_type": "display_data"
    },
    {
     "data": {
      "text/markdown": [
       "<h3><b><center>Due Friday September 9th, 11:59 pm<center></b></h3>"
      ],
      "text/plain": [
       "<IPython.core.display.Markdown object>"
      ]
     },
     "metadata": {},
     "output_type": "display_data"
    },
    {
     "data": {
      "text/markdown": [
       "**Instructions:** List your volunteer hours from September 9th to February 9th. This was a 23 week season."
      ],
      "text/plain": [
       "<IPython.core.display.Markdown object>"
      ]
     },
     "metadata": {},
     "output_type": "display_data"
    },
    {
     "data": {
      "text/markdown": [
       "As you list your hours, include a short description, an appropriate reference (if applicable), and the number of hours (designate if total or hours per week). If you are unsure if an activity counts for volunteer credit, please still include it on the form and make a note of any concerns."
      ],
      "text/plain": [
       "<IPython.core.display.Markdown object>"
      ]
     },
     "metadata": {},
     "output_type": "display_data"
    },
    {
     "data": {
      "text/markdown": [
       "Forms are due either via email or in the yellow bin outside of A-control by September 8th at 11:59 pm. Late forms will not be counted unless you contact the Volunteer Work Coordinator, Bryce Hwang."
      ],
      "text/plain": [
       "<IPython.core.display.Markdown object>"
      ]
     },
     "metadata": {},
     "output_type": "display_data"
    },
    {
     "data": {
      "text/markdown": [
       "<i>Send electronic forms to either volunteer@wmbr.org or bhwang@mit.edu.</i>"
      ],
      "text/plain": [
       "<IPython.core.display.Markdown object>"
      ]
     },
     "metadata": {},
     "output_type": "display_data"
    },
    {
     "data": {
      "text/markdown": [
       "<h3><b>Personal Information</b></h3>"
      ],
      "text/plain": [
       "<IPython.core.display.Markdown object>"
      ]
     },
     "metadata": {},
     "output_type": "display_data"
    },
    {
     "data": {
      "text/markdown": [
       "Name (as in member database): Adrian Meza"
      ],
      "text/plain": [
       "<IPython.core.display.Markdown object>"
      ]
     },
     "metadata": {},
     "output_type": "display_data"
    },
    {
     "data": {
      "text/markdown": [
       "Affiliation (Community, student):"
      ],
      "text/plain": [
       "<IPython.core.display.Markdown object>"
      ]
     },
     "metadata": {},
     "output_type": "display_data"
    },
    {
     "data": {
      "text/markdown": [
       "Preferred email (or other contact info):"
      ],
      "text/plain": [
       "<IPython.core.display.Markdown object>"
      ]
     },
     "metadata": {},
     "output_type": "display_data"
    },
    {
     "data": {
      "text/markdown": [
       "<h3><b>Hours on Air (per week):</b></h3>"
      ],
      "text/plain": [
       "<IPython.core.display.Markdown object>"
      ]
     },
     "metadata": {},
     "output_type": "display_data"
    },
    {
     "data": {
      "text/markdown": [
       "<h3><b>Additional Notes:</b></h3>"
      ],
      "text/plain": [
       "<IPython.core.display.Markdown object>"
      ]
     },
     "metadata": {},
     "output_type": "display_data"
    },
    {
     "data": {
      "text/markdown": [
       "\n"
      ],
      "text/plain": [
       "<IPython.core.display.Markdown object>"
      ]
     },
     "metadata": {},
     "output_type": "display_data"
    },
    {
     "data": {
      "text/markdown": [
       "<h3><b>Volunteer Hours</b></h3>"
      ],
      "text/plain": [
       "<IPython.core.display.Markdown object>"
      ]
     },
     "metadata": {},
     "output_type": "display_data"
    },
    {
     "data": {
      "text/markdown": [
       "<table border=\"1\">                     <tr><td><i>Work Description\t</i></td><td><i>Hours\t</i></td><td><i>Reference\t</i></td><td><i>Verified?\t</i></td></tr><tr><td>Fall All-Station Meeting\t</td><td>2.0\t</td><td>General Manager (Caitlin Fischer)\t</td><td>VERIFIED\t</td></tr><tr><td></td><td></td><td><i>Total Hours (NOT Verified)</i></td><td><i>0.000000</i></td></tr><tr><td></td><td></td><td><b>Total Hours (Verified)</b></td><td><b>2.000000</b></td></tr></table>"
      ],
      "text/plain": [
       "<IPython.core.display.Markdown object>"
      ]
     },
     "metadata": {},
     "output_type": "display_data"
    }
   ],
   "source": [
    "for group in grouped.groups:\n",
    "    name = group\n",
    "    printMarkdown(makeheader1(makebold(\"<center>WMBR Volunteer Form<center>\")))\n",
    "    printMarkdown(makeheader2(\"<center>%s Season<center>\" % season_name))\n",
    "    printMarkdown(makeheader3(makebold(\"<center>Due %s %s, 11:59 pm<center>\" % (start_date_dow, start_date))))\n",
    "    printMarkdown(\"**Instructions:** List your volunteer hours from %s to %s. This was a %d week season.\" % (start_date, end_date, num_weeks))\n",
    "    printMarkdown(\"As you list your hours, include a short description, an appropriate reference (if applicable), and the number of hours (designate if total or hours per week). If you are unsure if an activity counts for volunteer credit, please still include it on the form and make a note of any concerns.\")\n",
    "    printMarkdown(\"Forms are due either via email or in the yellow bin outside of A-control by September 8th at 11:59 pm. Late forms will not be counted unless you contact the Volunteer Work Coordinator, Bryce Hwang.\")\n",
    "    printMarkdown(makeitalic(\"Send electronic forms to either volunteer@wmbr.org or %s.\" % volunteer_coord_email))\n",
    "    printMarkdown(makeheader3(makebold(\"Personal Information\")))\n",
    "    printMarkdown(\"Name (as in member database): %s\" % (name))\n",
    "    printMarkdown(\"Affiliation (Community, student):\")\n",
    "    printMarkdown(\"Preferred email (or other contact info):\")\n",
    "    printMarkdown(makeheader3(makebold(\"Hours on Air (per week):\")))\n",
    "    printMarkdown(makeheader3(makebold(\"Additional Notes:\")))\n",
    "    printMarkdown(\"\\n\")\n",
    "    printMarkdown(makeheader3(makebold(\"Volunteer Hours\")))\n",
    "    printMarkdown(makeTable(grouped.groups[name], volunteers))\n",
    "    break\n",
    "    \n",
    "\n"
   ]
  },
  {
   "cell_type": "code",
   "execution_count": 208,
   "metadata": {
    "collapsed": false
   },
   "outputs": [],
   "source": [
    "output = \"\"\n",
    "for group in grouped.groups:\n",
    "    name = group\n",
    "    output = \"\"\n",
    "    output += makeheader1(\"<center>WMBR Volunteer Form<center>\")\n",
    "    output += \"\\n\"\n",
    "    output += makeheader2(\"<center>%s Season<center>\" % season_name)\n",
    "    output += makeheader3(\"<center>Due %s %s, 11:59 pm<center>\" % (start_date_dow, start_date))\n",
    "    output += \"<div align='left'>\"\n",
    "    output += \"<b>Instructions:</b> List your volunteer hours from %s to %s. This was a %d week season.\" % (start_date, end_date, num_weeks)\n",
    "    output += \"<br><br>As you list your hours, include a short description, an appropriate reference (if applicable), and the number of hours (designate if total or hours per week). If you are unsure if an activity counts for volunteer credit, please still include it on the form and make a note of any concerns.\"\n",
    "    output += \" Forms are due either via email or in the yellow bin outside of A-control by September 8th at 11:59 pm. Late forms will not be counted unless you contact the Volunteer Work Coordinator, Bryce Hwang.\"\n",
    "    output += makeitalic(\"<br><br>Send electronic forms to either volunteer@wmbr.org or %s.\" % volunteer_coord_email)\n",
    "    output += makeheader3(makebold(\"Personal Information\"))\n",
    "    output += \"Name (as in member database): <b>%s</b>\" % (name)\n",
    "    output += \"<br>Affiliation (Community, student):\"\n",
    "    output += \"<br>Preferred email (or other contact info):\"\n",
    "    output += makeheader3(makebold(\"Hours on Air (per week):\"))\n",
    "    output += makeheader3(makebold(\"Additional Notes:\\n\\n\"))\n",
    "    output += makeheader3(makebold(\"Volunteer Hours\"))\n",
    "    output += makeTable(grouped.groups[name], volunteers)\n",
    "    output += \"</div>\"\n",
    "    output_filename = \"%s/%s.doc\" % (output_folder, name)\n",
    "    with open(output_filename, \"w\") as outfile:\n",
    "        outfile.write(output)"
   ]
  },
  {
   "cell_type": "code",
   "execution_count": null,
   "metadata": {
    "collapsed": true
   },
   "outputs": [],
   "source": []
  }
 ],
 "metadata": {
  "kernelspec": {
   "display_name": "Python 3",
   "language": "python",
   "name": "python3"
  },
  "language_info": {
   "codemirror_mode": {
    "name": "ipython",
    "version": 3
   },
   "file_extension": ".py",
   "mimetype": "text/x-python",
   "name": "python",
   "nbconvert_exporter": "python",
   "pygments_lexer": "ipython3",
   "version": "3.6.0"
  }
 },
 "nbformat": 4,
 "nbformat_minor": 2
}
